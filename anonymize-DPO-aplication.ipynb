{
 "cells": [
  {
   "cell_type": "markdown",
   "id": "bd395f29",
   "metadata": {},
   "source": [
    "# Anonimizar dados em um DataFrame"
   ]
  },
  {
   "cell_type": "markdown",
   "id": "912bae4f",
   "metadata": {},
   "source": [
    "Função para anonimizar dados em um DataFrame, substituindo os valores das colunas especificadas por hashes SHA-256.\n",
    "\n",
    "Parâmetros:\n",
    "dataframe (pd.DataFrame): O DataFrame contendo os dados a serem anonimizados.\n",
    "columns_to_anonymize (list): Uma lista de strings contendo o nome das colunas a serem anonimizadas.\n",
    "\n",
    "Retorna:\n",
    "pd.DataFrame: O DataFrame anonimizado."
   ]
  },
  {
   "cell_type": "code",
   "execution_count": 2,
   "id": "3da623e2",
   "metadata": {},
   "outputs": [
    {
     "name": "stdout",
     "output_type": "stream",
     "text": [
      "Dados originais:\n",
      "    Nome              Email             CPF\n",
      "0  Alice  alice@example.com  123.456.789-00\n",
      "1    Bob    bob@example.com  987.654.321-00\n",
      "2  Carol  carol@example.com  555.666.777-00\n",
      "\n",
      "Dados anonimizados:\n",
      "                                                Nome              Email  \\\n",
      "0  3bc51062973c458d5a6f2d8d64a023246354ad7e064b1e...  alice@example.com   \n",
      "1  cd9fb1e148ccd8442e5aa74904cc73bf6fb54d1d54d333...    bob@example.com   \n",
      "2  b2dd7d8a70567a0e23308a6a77b38d603eaf2baca5da32...  carol@example.com   \n",
      "\n",
      "                                                 CPF  \n",
      "0  f788964b0ba012d64ae6d4c20c698d86821b8fbe725e17...  \n",
      "1  22b9abad406a7473e4314cfe3a7f030e18988b8fa1f916...  \n",
      "2  5b9cfd2716a97da5dad98b9ec481aa1a1d7a555392745b...  \n"
     ]
    }
   ],
   "source": [
    "import pandas as pd\n",
    "from hashlib import sha256\n",
    "\n",
    "def anonymize_data(dataframe, columns_to_anonymize):\n",
    "    anonymized_df = dataframe.copy()\n",
    "    for col in columns_to_anonymize:\n",
    "        anonymized_df[col] = anonymized_df[col].apply(lambda x: sha256(str(x).encode()).hexdigest())\n",
    "    return anonymized_df\n",
    "\n",
    "# Exemplo de uso\n",
    "if __name__ == \"__main__\":\n",
    "    # Suponha que você tenha um DataFrame com dados sensíveis\n",
    "    data = {\n",
    "        'Nome': ['Alice', 'Bob', 'Carol'],\n",
    "        'Email': ['alice@example.com', 'bob@example.com', 'carol@example.com'],\n",
    "        'CPF': ['123.456.789-00', '987.654.321-00', '555.666.777-00']\n",
    "    }\n",
    "    df = pd.DataFrame(data)\n",
    "\n",
    "    # Lista de colunas que devem ser anonimizadas (por exemplo, Nome e CPF)\n",
    "    columns_to_anonymize = ['Nome', 'CPF']\n",
    "\n",
    "    # Chamada da função para anonimizar as colunas selecionadas\n",
    "    anonymized_df = anonymize_data(df, columns_to_anonymize)\n",
    "\n",
    "    print(\"Dados originais:\")\n",
    "    print(df)\n",
    "    print(\"\\nDados anonimizados:\")\n",
    "    print(anonymized_df)"
   ]
  }
 ],
 "metadata": {
  "kernelspec": {
   "display_name": "Python 3 (ipykernel)",
   "language": "python",
   "name": "python3"
  },
  "language_info": {
   "codemirror_mode": {
    "name": "ipython",
    "version": 3
   },
   "file_extension": ".py",
   "mimetype": "text/x-python",
   "name": "python",
   "nbconvert_exporter": "python",
   "pygments_lexer": "ipython3",
   "version": "3.10.9"
  }
 },
 "nbformat": 4,
 "nbformat_minor": 5
}
